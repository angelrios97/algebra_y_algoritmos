{
 "cells": [
  {
   "cell_type": "code",
   "execution_count": 1,
   "metadata": {},
   "outputs": [
    {
     "name": "stderr",
     "output_type": "stream",
     "text": [
      "/opt/SageMath/local/lib/python3.8/site-packages/mpmath/ctx_mp_python.py:892: SyntaxWarning: \"is\" with a literal. Did you mean \"==\"?\n",
      "  if other is 0:\n",
      "/opt/SageMath/local/lib/python3.8/site-packages/mpmath/ctx_mp_python.py:986: SyntaxWarning: \"is\" with a literal. Did you mean \"==\"?\n",
      "  if other is 0:\n"
     ]
    }
   ],
   "source": [
    "f = x^6-2*x^3+5\n",
    "K.<a> = NumberField(f)\n",
    "F = K[x]"
   ]
  },
  {
   "cell_type": "code",
   "execution_count": 2,
   "metadata": {},
   "outputs": [],
   "source": [
    "f = F(f)"
   ]
  },
  {
   "cell_type": "code",
   "execution_count": 3,
   "metadata": {},
   "outputs": [
    {
     "data": {
      "text/plain": [
       "Univariate Polynomial Ring in x over Number Field in a with defining polynomial x^6 - 2*x^3 + 5"
      ]
     },
     "execution_count": 3,
     "metadata": {},
     "output_type": "execute_result"
    }
   ],
   "source": [
    "f.parent()"
   ]
  },
  {
   "cell_type": "code",
   "execution_count": 4,
   "metadata": {},
   "outputs": [
    {
     "data": {
      "text/plain": [
       "(x - a) * (x^2 + a*x + a^2) * (x^3 + a^3 - 2)"
      ]
     },
     "execution_count": 4,
     "metadata": {},
     "output_type": "execute_result"
    }
   ],
   "source": [
    "ffactores = f.factor()  # Factorizar usando al norma.\n",
    "ffactores"
   ]
  },
  {
   "cell_type": "code",
   "execution_count": 5,
   "metadata": {},
   "outputs": [
    {
     "data": {
      "text/plain": [
       "(x^2 + a*x + a^2, x^3 + a^3 - 2)"
      ]
     },
     "execution_count": 5,
     "metadata": {},
     "output_type": "execute_result"
    }
   ],
   "source": [
    "h1 = ffactores[1][0]\n",
    "h2 = ffactores[2][0]\n",
    "h1,h2"
   ]
  },
  {
   "cell_type": "code",
   "execution_count": 6,
   "metadata": {},
   "outputs": [],
   "source": [
    "K2.<b> = NumberField(h1)  # Extensión Q(a,b)=Q(a)[x]/(x^2+ax+a^2).\n",
    "F2 = K2[x]  # Anillo de polinomios Q(a,b)[x] donde se escinden (x-a) y h1."
   ]
  },
  {
   "cell_type": "code",
   "execution_count": 7,
   "metadata": {},
   "outputs": [
    {
     "data": {
      "text/plain": [
       "x^3 + a^3 - 2"
      ]
     },
     "execution_count": 7,
     "metadata": {},
     "output_type": "execute_result"
    }
   ],
   "source": [
    "h2F2 = F2(h2)  # Interpretamos el otro factor de f en Q(a,b)[x].\n",
    "h2F2.factor()  # Es irreducible en Q(a,b)[x]."
   ]
  },
  {
   "cell_type": "code",
   "execution_count": 8,
   "metadata": {},
   "outputs": [],
   "source": [
    "z2 = h2F2.factor()[0][0]\n",
    "K3.<c> = NumberField(z2) # Extensión Q(a,b,c)=Q(a,b)[x]/(x^3+a^3-2).\n",
    "F3 = K3[x]  # Anillo de polinomios Q(a,b,c)[x] donde se escinden (x-a) y h1 y z2 tiene una raíz."
   ]
  },
  {
   "cell_type": "code",
   "execution_count": 9,
   "metadata": {},
   "outputs": [
    {
     "data": {
      "text/plain": [
       "(x + ((-1/5*a^5 + 2/5*a^2)*b + 1)*c) * (x - c) * (x + ((1/5*a^5 - 2/5*a^2)*b)*c)"
      ]
     },
     "execution_count": 9,
     "metadata": {},
     "output_type": "execute_result"
    }
   ],
   "source": [
    "z2F3 = F3(z2)  # Interpretamos h2F2 en F3\n",
    "z2F3.factor()  # También z2 se escinde en Q(a,b,c)[x] y entonces Q(a,b,c) es el cuerpo de escisión de f."
   ]
  },
  {
   "cell_type": "code",
   "execution_count": 10,
   "metadata": {},
   "outputs": [
    {
     "data": {
      "text/plain": [
       "t^18 + 318*t^12 + 6033*t^6 + 4096"
      ]
     },
     "execution_count": 10,
     "metadata": {},
     "output_type": "execute_result"
    }
   ],
   "source": [
    "K.<x,y,z,t> = PolynomialRing(QQ, 4)\n",
    "I = Ideal(K, x^6-2*x^3+5, y^2+x*y+x^2, z^3+x^3-2, t-(x+y+z))\n",
    "I.elimination_ideal([x, y, z]).groebner_basis()[0]  # a+b+c no es primitivo"
   ]
  },
  {
   "cell_type": "code",
   "execution_count": 11,
   "metadata": {},
   "outputs": [
    {
     "data": {
      "text/html": [
       "<html><script type=\"math/tex; mode=display\">\\newcommand{\\Bold}[1]{\\mathbf{#1}}t^{36} - 12 t^{33} - 396 t^{30} + 50732 t^{27} + 1418262 t^{24} + 10093164 t^{21} + 1852742516 t^{18} + 5520435348 t^{15} + 196631283201 t^{12} + 1504151875936 t^{9} + 7378647677568 t^{6} + 11198537803776 t^{3} + 5708466638848</script></html>"
      ],
      "text/latex": [
       "\\begin{math}\n",
       "\\newcommand{\\Bold}[1]{\\mathbf{#1}}t^{36} - 12 t^{33} - 396 t^{30} + 50732 t^{27} + 1418262 t^{24} + 10093164 t^{21} + 1852742516 t^{18} + 5520435348 t^{15} + 196631283201 t^{12} + 1504151875936 t^{9} + 7378647677568 t^{6} + 11198537803776 t^{3} + 5708466638848\n",
       "\\end{math}"
      ],
      "text/plain": [
       "t^36 - 12*t^33 - 396*t^30 + 50732*t^27 + 1418262*t^24 + 10093164*t^21 + 1852742516*t^18 + 5520435348*t^15 + 196631283201*t^12 + 1504151875936*t^9 + 7378647677568*t^6 + 11198537803776*t^3 + 5708466638848"
      ]
     },
     "metadata": {},
     "output_type": "display_data"
    }
   ],
   "source": [
    "I = Ideal(K, x^6-2*x^3+5, y^2+x*y+x^2, z^3+x^3-2, t-(x-y+z))\n",
    "show(I.elimination_ideal([x, y, z]).groebner_basis()[0])  # a-b+c es primitivo y tenemos su polinomio mínimo."
   ]
  }
 ],
 "metadata": {
  "kernelspec": {
   "display_name": "SageMath 9.2",
   "language": "sage",
   "name": "sagemath"
  },
  "language_info": {
   "codemirror_mode": {
    "name": "ipython",
    "version": 3
   },
   "file_extension": ".py",
   "mimetype": "text/x-python",
   "name": "python",
   "nbconvert_exporter": "python",
   "pygments_lexer": "ipython3",
   "version": "3.8.5"
  }
 },
 "nbformat": 4,
 "nbformat_minor": 4
}
