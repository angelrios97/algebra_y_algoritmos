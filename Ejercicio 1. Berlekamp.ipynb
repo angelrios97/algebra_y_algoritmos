{
 "cells": [
  {
   "cell_type": "code",
   "execution_count": 1,
   "metadata": {},
   "outputs": [],
   "source": [
    "from random import sample\n",
    "\n",
    "def factorBerlekamp(f):  # Calcula un factor de f mónico libre de cuadrados sobre\n",
    "    # un cuerpo finito mediante el algoritmo de Berlekamp.\n",
    "    if gcd(f,f.derivative()) != 1 or f[f.degree()] != 1:\n",
    "        print(\"El polinomio no es libre de cuadrados o no es mónico.\")\n",
    "        return\n",
    "    BR = f.base_ring()  # Cuerpo finito de los coeficientes de f.\n",
    "    p = BR.characteristic()\n",
    "    m = BR.degree()\n",
    "    q = p ** m\n",
    "    n = f.degree()\n",
    "    Rx.<x> = PolynomialRing(BR)\n",
    "    Phi = []  # Guardará la matriz de a |--> a^q-a.\n",
    "    for _ in range(n):\n",
    "        pol = power_mod(x, _ * q, f)  # Cálculo eficiente de x^(iq) mod f\n",
    "        coef = []  # Guardará los coeficientes.\n",
    "        if type(pol) == int:\n",
    "            coef = [pol] + [0] * (n - 1)  # Añadimos ceros hasta n.\n",
    "        else:\n",
    "            coef = list(pol)\n",
    "            lenc = len(coef)\n",
    "            coef = coef + [0] * (n - lenc)  # Añadimos ceros hasta n.\n",
    "        Phi.append(coef)\n",
    "    Phi = matrix(BR, Phi) - matrix.identity(BR, n)\n",
    "    Ker = Phi.transpose().right_kernel()  # Ker(Phi): Álgebra de Berlekamp.\n",
    "    BaseKer = Ker.basis_matrix()  # Base de Ker(Phi).\n",
    "    r = BaseKer.dimensions()[0]  # Número de factores de  f.\n",
    "    BKer = [Rx(list(_)) for _ in BaseKer]\n",
    "    if r == 1:  # Si r = 1, es irreducible.\n",
    "        return f, 1, 1\n",
    "    while True:  # Repetimos hasta obtener un factor de f.\n",
    "        a = sample(list(Ker), 1)[0]  # Tomamos a del núcleo pseudoaleatorio.\n",
    "        a = Rx(list(a))  # Interpretamos a como polinomio.\n",
    "        b = power_mod(a, (q - 1) // 2, f)  # a ^ ((q - 1) / 2)\n",
    "        d = gcd(f, b)\n",
    "        if d != 1 and d != f:\n",
    "            return d, f // d, r  # Obtenemos un factor de f.\n",
    "        d = gcd(f, b - 1)\n",
    "        if d != 1 and d != f:\n",
    "            return d, f // d, r  # Obtenemos un factor de f.\n",
    "        \n",
    "def Berlekamp(f):  # Factorización de f libre de cuadrados sobre \n",
    "    # un cuerpo finito con el algoritmo de Berlekamp.\n",
    "    fact = []  # Guardará los factores de f.\n",
    "    c = f[f.degree()]\n",
    "    if c != 1:  # Si f no es mónico, el coeficiente principal es un factor.\n",
    "        fact = [c]\n",
    "    g = f // c\n",
    "    while g.degree() != 0:  # Mientras g no sea constante.\n",
    "        [d, g, r] = factorBerlekamp(g)  # Aplicamos el algoritmo anterior.\n",
    "        if r == 1:\n",
    "            return f\n",
    "        [d1, g1, r1] = factorBerlekamp(d)  # Buscamos un factor de d.\n",
    "        [d2, g2, r2] = factorBerlekamp(g)  # Buscamos un factor de g.\n",
    "        if r1 == 1 and r2 != 1:  # d es irreducible.\n",
    "            fact.append(d)\n",
    "        elif r1 != 1 and r2 == 1:  # g es irreducible.\n",
    "            fact.append(g) \n",
    "            g = d\n",
    "        else:  # d y g son irreducibles.\n",
    "            fact.append(g)\n",
    "            fact.append(d)\n",
    "            return fact"
   ]
  },
  {
   "cell_type": "code",
   "execution_count": 2,
   "metadata": {},
   "outputs": [
    {
     "name": "stdout",
     "output_type": "stream",
     "text": [
      "3*x^5 + 3*x^4 + 3*x^3 + 3*x^2 + 2*x + 3\n"
     ]
    },
    {
     "data": {
      "text/plain": [
       "[3, x^2 + 4*x + 2, x^3 + 2*x^2 + x + 3]"
      ]
     },
     "execution_count": 2,
     "metadata": {},
     "output_type": "execute_result"
    }
   ],
   "source": [
    "BR.<a> = GF(5)\n",
    "R.<x> = PolynomialRing(BR)\n",
    "f = 3 * R(3+2*x+3*x**2+3*x**3+3*x**4+3*x**5)\n",
    "f = f / 3\n",
    "print(f)\n",
    "Berlekamp(f)"
   ]
  },
  {
   "cell_type": "code",
   "execution_count": 3,
   "metadata": {},
   "outputs": [
    {
     "name": "stdout",
     "output_type": "stream",
     "text": [
      "x^4 + 2\n"
     ]
    },
    {
     "data": {
      "text/plain": [
       "[x + 2, x + 1, x^2 + 1]"
      ]
     },
     "execution_count": 3,
     "metadata": {},
     "output_type": "execute_result"
    }
   ],
   "source": [
    "BR.<a> = GF(3)\n",
    "R.<x> = PolynomialRing(BR)\n",
    "f = R(x^4 + 2)\n",
    "print(f)\n",
    "Berlekamp(f)"
   ]
  },
  {
   "cell_type": "code",
   "execution_count": 4,
   "metadata": {},
   "outputs": [
    {
     "data": {
      "text/plain": [
       "[x + 2, x + 1, x^2 + 1]"
      ]
     },
     "execution_count": 4,
     "metadata": {},
     "output_type": "execute_result"
    }
   ],
   "source": [
    "Berlekamp(f)"
   ]
  },
  {
   "cell_type": "code",
   "execution_count": null,
   "metadata": {},
   "outputs": [],
   "source": [
    "# def factoriza(f):\n",
    "#     BR = f.base_ring()  # Cuerpo finito de los coeficientes de f.\n",
    "#     p = BR.characteristic()\n",
    "#     m = BR.degree()\n",
    "#     q = p ** m\n",
    "#     n = f.degree()\n",
    "#     Rx.<x> = PolynomialRing(BR)\n",
    "#     fact = []\n",
    "#     h = gcd(f, f.derivative())\n",
    "#     if h == 1:\n",
    "#         return list(factorBerlekamp(f))\n",
    "#     elif h == f:\n",
    "#         g = f.nth_root(p)\n",
    "#         return list(factoriza(g))\n",
    "#     else:\n",
    "#         fact = [h]\n",
    "#         fact = fact + factoriza(f // h)\n",
    "#         return list(fact)"
   ]
  }
 ],
 "metadata": {
  "kernelspec": {
   "display_name": "SageMath 9.2",
   "language": "sage",
   "name": "sagemath"
  },
  "language_info": {
   "codemirror_mode": {
    "name": "ipython",
    "version": 3
   },
   "file_extension": ".py",
   "mimetype": "text/x-python",
   "name": "python",
   "nbconvert_exporter": "python",
   "pygments_lexer": "ipython3",
   "version": "3.8.5"
  }
 },
 "nbformat": 4,
 "nbformat_minor": 4
}
