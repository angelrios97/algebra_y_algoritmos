{
 "cells": [
  {
   "cell_type": "code",
   "execution_count": 3,
   "metadata": {},
   "outputs": [
    {
     "data": {
      "text/plain": [
       "(x - a) * (x^2 + a*x + a^2) * (x^3 + a^3 - 2)"
      ]
     },
     "execution_count": 3,
     "metadata": {},
     "output_type": "execute_result"
    }
   ],
   "source": [
    "var('x')\n",
    "f = x^6-2*x^3+5\n",
    "K.<a> = NumberField(f)\n",
    "R = K[x]\n",
    "f = R(f)\n",
    "ffactores = f.factor()\n",
    "ffactores"
   ]
  },
  {
   "cell_type": "code",
   "execution_count": 4,
   "metadata": {},
   "outputs": [
    {
     "data": {
      "text/plain": [
       "(x^2 + a*x + a^2, x^3 + a^3 - 2)"
      ]
     },
     "execution_count": 4,
     "metadata": {},
     "output_type": "execute_result"
    }
   ],
   "source": [
    "h1 = ffactores[1][0]\n",
    "h2 = ffactores[2][0]\n",
    "h1, h2"
   ]
  },
  {
   "cell_type": "code",
   "execution_count": 5,
   "metadata": {},
   "outputs": [],
   "source": [
    "Q.<x,y> = PolynomialRing(QQ, 2)\n",
    "I = Ideal(Q, x^2+y*x+y^2, y-(x^6-2*x^3+5))"
   ]
  },
  {
   "cell_type": "code",
   "execution_count": 6,
   "metadata": {},
   "outputs": [],
   "source": [
    "G = I.elimination_ideal(y).groebner_basis()"
   ]
  },
  {
   "cell_type": "code",
   "execution_count": 7,
   "metadata": {},
   "outputs": [
    {
     "data": {
      "text/plain": [
       "x^12 - 4*x^9 + x^7 + 14*x^6 - 2*x^4 - 20*x^3 + x^2 + 5*x + 25"
      ]
     },
     "execution_count": 7,
     "metadata": {},
     "output_type": "execute_result"
    }
   ],
   "source": [
    "g0 = G[0]\n",
    "g0"
   ]
  },
  {
   "cell_type": "code",
   "execution_count": 8,
   "metadata": {},
   "outputs": [
    {
     "data": {
      "text/plain": [
       "x^36 - 12*x^33 + 3*x^31 + 90*x^30 - 30*x^28 - 460*x^27 + 6*x^26 + 195*x^25 + 1815*x^24 - 48*x^23 - 840*x^22 - 5585*x^21 + 264*x^20 + 2790*x^19 + 13922*x^18 - 912*x^17 - 6990*x^16 - 27771*x^15 + 2436*x^14 + 13926*x^13 + 44899*x^12 - 4557*x^11 - 20916*x^10 - 56555*x^9 + 6594*x^8 + 24255*x^7 + 55201*x^6 - 5985*x^5 - 18600*x^4 - 36624*x^3 + 3750*x^2 + 9375*x + 15623"
      ]
     },
     "execution_count": 8,
     "metadata": {},
     "output_type": "execute_result"
    }
   ],
   "source": [
    "J = Ideal(Q, x^3+y^3-2, y-g0)\n",
    "g1 = J.elimination_ideal(y).groebner_basis()[0]\n",
    "g1"
   ]
  },
  {
   "cell_type": "code",
   "execution_count": 9,
   "metadata": {},
   "outputs": [
    {
     "data": {
      "text/plain": [
       "Number Field in a with defining polynomial x^36 - 36*x^34 + 18*x^33 + 540*x^32 - 612*x^31 - 4440*x^30 + 8604*x^29 + 18972*x^28 - 53478*x^27 - 28836*x^26 + 61560*x^25 + 412242*x^24 - 774504*x^23 - 410508*x^22 + 1465038*x^21 - 164160*x^20 + 3322908*x^19 - 9822976*x^18 + 3718548*x^17 + 2834964*x^16 + 30619206*x^15 - 19585908*x^14 - 128738448*x^13 + 198862773*x^12 + 8775720*x^11 - 169055568*x^10 + 7891920*x^9 + 95705388*x^8 - 68680224*x^7 + 176159904*x^6 - 246487680*x^5 + 205085520*x^4 - 135636480*x^3 + 61167744*x^2 - 28514304*x + 23156992"
      ]
     },
     "execution_count": 9,
     "metadata": {},
     "output_type": "execute_result"
    }
   ],
   "source": [
    "from sage.rings.number_field.splitting_field import splitting_field\n",
    "f = QQ[x](f)\n",
    "H = f.splitting_field(\"a\")\n",
    "H"
   ]
  },
  {
   "cell_type": "code",
   "execution_count": 10,
   "metadata": {},
   "outputs": [],
   "source": [
    "var('x')\n",
    "R.<a> = NumberField(x^6-2*x^3+5)\n",
    "Rx.<x> = PolynomialRing(R)\n",
    "S.<b> = NumberField(Rx(x^2-a*x+a^2))"
   ]
  },
  {
   "cell_type": "code",
   "execution_count": 11,
   "metadata": {},
   "outputs": [
    {
     "data": {
      "text/plain": [
       "x^12 - 162*x^6 + 18225"
      ]
     },
     "execution_count": 11,
     "metadata": {},
     "output_type": "execute_result"
    }
   ],
   "source": [
    "S.absolute_polynomial()"
   ]
  },
  {
   "cell_type": "code",
   "execution_count": 12,
   "metadata": {},
   "outputs": [
    {
     "data": {
      "text/plain": [
       "False"
      ]
     },
     "execution_count": 12,
     "metadata": {},
     "output_type": "execute_result"
    }
   ],
   "source": [
    "g0 == S.absolute_polynomial()"
   ]
  },
  {
   "cell_type": "code",
   "execution_count": null,
   "metadata": {},
   "outputs": [],
   "source": []
  }
 ],
 "metadata": {
  "kernelspec": {
   "display_name": "SageMath 9.2",
   "language": "sage",
   "name": "sagemath"
  },
  "language_info": {
   "codemirror_mode": {
    "name": "ipython",
    "version": 3
   },
   "file_extension": ".py",
   "mimetype": "text/x-python",
   "name": "python",
   "nbconvert_exporter": "python",
   "pygments_lexer": "ipython3",
   "version": "3.8.5"
  }
 },
 "nbformat": 4,
 "nbformat_minor": 4
}
