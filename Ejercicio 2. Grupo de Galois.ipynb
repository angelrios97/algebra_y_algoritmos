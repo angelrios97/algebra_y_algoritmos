{
 "cells": [
  {
   "cell_type": "code",
   "execution_count": 1,
   "metadata": {},
   "outputs": [
    {
     "name": "stdout",
     "output_type": "stream",
     "text": [
      "1\n",
      "x^36 - 12*x^33 + 90*x^30 - 460*x^27 + 1815*x^24 - 5592*x^21 + 13964*x^18 - 27960*x^15 + 45375*x^12 - 57500*x^9 + 56250*x^6 - 37500*x^3 + 15625\n"
     ]
    },
    {
     "data": {
      "text/plain": [
       "x^30 - 10*x^27 + 65*x^24 - 280*x^21 + 930*x^18 - 2332*x^15 + 4650*x^12 - 7000*x^9 + 8125*x^6 - 6250*x^3 + 3125"
      ]
     },
     "execution_count": 1,
     "metadata": {},
     "output_type": "execute_result"
    }
   ],
   "source": [
    "var('x','y')\n",
    "R.<x,y> = PolynomialRing(QQ,2)\n",
    "f = x^6-2*x^3+5\n",
    "g = y^6-2*y^3+5\n",
    "print(gcd(f,f.derivative(x))) # f es libre de cuadrados.\n",
    "norma = QQ[x](f.resultant(g,y))  # Probamos con la norma de f(x).\n",
    "print(norma)\n",
    "gcd(norma,norma.derivative())  # No es libre de cuadrados."
   ]
  },
  {
   "cell_type": "code",
   "execution_count": 2,
   "metadata": {},
   "outputs": [
    {
     "data": {
      "text/plain": [
       "x^15 - 4*x^12 - 130*x^9 - 284*x^6 - 631*x^3 - 40"
      ]
     },
     "execution_count": 2,
     "metadata": {},
     "output_type": "execute_result"
    }
   ],
   "source": [
    "var('x','y')\n",
    "R.<x,y> = PolynomialRing(QQ,2)\n",
    "f = x^6-2*x^3+5\n",
    "f = f(x = x-y)\n",
    "g = y^6-2*y^3+5\n",
    "norma = QQ[x](f.resultant(g,y))  # Probamos con la norma de f(x-a).\n",
    "gcd(norma,norma.derivative())  # No es libre de cuadrados."
   ]
  },
  {
   "cell_type": "code",
   "execution_count": 3,
   "metadata": {},
   "outputs": [
    {
     "name": "stdout",
     "output_type": "stream",
     "text": [
      "x^36 - 108*x^33 + 6042*x^30 - 137484*x^27 - 1095945*x^24 - 38781720*x^21 + 9696177676*x^18 - 44969134392*x^15 - 1474118148609*x^12 + 7323966993924*x^9 + 161779763521530*x^6 - 950902005872700*x^3 + 1411901425931625\n",
      "1\n"
     ]
    }
   ],
   "source": [
    "var('x','y')\n",
    "R.<x,y> = PolynomialRing(QQ,2)\n",
    "f = x^6-2*x^3+5\n",
    "f = f(x = x-2*y)  # Probamos con la norma de f(x-2a).\n",
    "g = y^6-2*y^3+5\n",
    "norma = QQ[x](f.resultant(g,y))\n",
    "print(norma)\n",
    "print(gcd(norma,norma.derivative()))  # Es libre de cuadrados."
   ]
  },
  {
   "cell_type": "code",
   "execution_count": 4,
   "metadata": {},
   "outputs": [
    {
     "data": {
      "text/html": [
       "<html><script type=\"math/tex; mode=display\">\\newcommand{\\Bold}[1]{\\mathbf{#1}}(x^{6} - 54 x^{3} + 3645) \\cdot (x^{12} - 162 x^{6} + 18225) \\cdot (x^{18} - 54 x^{15} - 357 x^{12} + 22572 x^{9} + 2411031 x^{6} - 13999446 x^{3} + 21253933)</script></html>"
      ],
      "text/latex": [
       "\\begin{math}\n",
       "\\newcommand{\\Bold}[1]{\\mathbf{#1}}(x^{6} - 54 x^{3} + 3645) \\cdot (x^{12} - 162 x^{6} + 18225) \\cdot (x^{18} - 54 x^{15} - 357 x^{12} + 22572 x^{9} + 2411031 x^{6} - 13999446 x^{3} + 21253933)\n",
       "\\end{math}"
      ],
      "text/plain": [
       "(x^6 - 54*x^3 + 3645) * (x^12 - 162*x^6 + 18225) * (x^18 - 54*x^15 - 357*x^12 + 22572*x^9 + 2411031*x^6 - 13999446*x^3 + 21253933)"
      ]
     },
     "metadata": {},
     "output_type": "display_data"
    },
    {
     "name": "stdout",
     "output_type": "stream",
     "text": [
      "Número de factores:  3\n"
     ]
    }
   ],
   "source": [
    "nfactores = norma.factor()  # Factorizamos la norma N(f(x-2a)) en Q[x].\n",
    "show(norma.factor())\n",
    "print(\"Número de factores: \", len(nfactores))"
   ]
  },
  {
   "cell_type": "code",
   "execution_count": 5,
   "metadata": {
    "scrolled": true
   },
   "outputs": [
    {
     "data": {
      "text/plain": [
       "(x^6 - 54*x^3 + 3645,\n",
       " x^12 - 162*x^6 + 18225,\n",
       " x^18 - 54*x^15 - 357*x^12 + 22572*x^9 + 2411031*x^6 - 13999446*x^3 + 21253933)"
      ]
     },
     "execution_count": 5,
     "metadata": {},
     "output_type": "execute_result"
    }
   ],
   "source": [
    "nfactor0 = nfactores[0][0]\n",
    "nfactor1 = nfactores[1][0]\n",
    "nfactor2 = nfactores[2][0]\n",
    "nfactor0, nfactor1, nfactor2"
   ]
  },
  {
   "cell_type": "code",
   "execution_count": 6,
   "metadata": {},
   "outputs": [
    {
     "data": {
      "text/plain": [
       "(x - 3*a, x^2 - 3*a*x + 3*a^2, x^3 - 6*a*x^2 + 12*a^2*x - 7*a^3 - 2)"
      ]
     },
     "execution_count": 6,
     "metadata": {},
     "output_type": "execute_result"
    }
   ],
   "source": [
    "# Calculamos los factores irreducibles de f(x-2a) en Q(a)[x] con a raíz de x^6-2x^3+5.\n",
    "F.<a> = NumberField(QQ[x](x^6-2*x^3+5))\n",
    "S.<x> = F[x]\n",
    "f = S(f(y = a))\n",
    "h0 = gcd(f, nfactor0)\n",
    "h1 = gcd(f, nfactor1)\n",
    "h2 = gcd(f, nfactor2)\n",
    "h0,h1,h2"
   ]
  },
  {
   "cell_type": "code",
   "execution_count": 10,
   "metadata": {},
   "outputs": [
    {
     "data": {
      "text/plain": [
       "(x - a, x^2 + a*x + a^2, x^3 + a^3 - 2)"
      ]
     },
     "execution_count": 10,
     "metadata": {},
     "output_type": "execute_result"
    }
   ],
   "source": [
    "# Deshacemos el cambio x |--> x-2a\n",
    "ffactores = h0(x = x+2*a), h1(x = x + 2*a), h2(x = x+2*a)\n",
    "ffactores"
   ]
  },
  {
   "cell_type": "code",
   "execution_count": 8,
   "metadata": {},
   "outputs": [
    {
     "data": {
      "text/plain": [
       "(x - a) * (x^2 + a*x + a^2) * (x^3 + a^3 - 2)"
      ]
     },
     "execution_count": 8,
     "metadata": {},
     "output_type": "execute_result"
    }
   ],
   "source": [
    "# Comprobamos que coincide con la factorización que devuelve Sage en Q(a) con a raíz de x^6-2x^3+5.\n",
    "f(x=x+2*a).factor()  # Factorización de Sage en Q(a)"
   ]
  }
 ],
 "metadata": {
  "kernelspec": {
   "display_name": "SageMath 9.2",
   "language": "sage",
   "name": "sagemath"
  },
  "language_info": {
   "codemirror_mode": {
    "name": "ipython",
    "version": 3
   },
   "file_extension": ".py",
   "mimetype": "text/x-python",
   "name": "python",
   "nbconvert_exporter": "python",
   "pygments_lexer": "ipython3",
   "version": "3.8.5"
  }
 },
 "nbformat": 4,
 "nbformat_minor": 4
}
