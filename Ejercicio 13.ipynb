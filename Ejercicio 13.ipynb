{
 "cells": [
  {
   "cell_type": "markdown",
   "metadata": {},
   "source": [
    "# Álgebra y Algoritmos\n",
    "### Ángel Ríos San Nicolás \n",
    "**Ejercicio 13.** Sea $f=x^5−2x^4−3x^3+6x^2−4x+8$. Sin calcular explícitamente las raíces y sin calcular factorizaciones:\n",
    "* Calcule cuántas raíces reales distintas tiene $f$.\n",
    "* Calcule la multiplicidad de cada raíz.\n",
    "* Dadas $x,y$ raíces defdeterminadas por su multiplicidad, determine cuál es mayor."
   ]
  },
  {
   "cell_type": "code",
   "execution_count": 1,
   "metadata": {},
   "outputs": [],
   "source": [
    "def sturmcount(P, Q):\n",
    "    if P == 0 or Q == 0:\n",
    "        raise(ValueError)\n",
    "    L = [P, Q]\n",
    "    while L[-1] != 0:\n",
    "        L.append(-L[-2] % L[-1])\n",
    "    L = L[:-1]\n",
    "    count = 0\n",
    "    for i in range(len(L) - 1):\n",
    "        n = L[i].degree()\n",
    "        m = L[i+1].degree()\n",
    "        if (n-m) % 2 == 1:\n",
    "            an = L[i][n]\n",
    "            bm = L[i+1][m]\n",
    "            count = count + sign(an * bm)\n",
    "    return count"
   ]
  },
  {
   "cell_type": "code",
   "execution_count": 2,
   "metadata": {},
   "outputs": [
    {
     "name": "stderr",
     "output_type": "stream",
     "text": [
      "/opt/SageMath/local/lib/python3.8/site-packages/mpmath/ctx_mp_python.py:892: SyntaxWarning: \"is\" with a literal. Did you mean \"==\"?\n",
      "  if other is 0:\n",
      "/opt/SageMath/local/lib/python3.8/site-packages/mpmath/ctx_mp_python.py:986: SyntaxWarning: \"is\" with a literal. Did you mean \"==\"?\n",
      "  if other is 0:\n"
     ]
    }
   ],
   "source": [
    "K = QQ[x]\n",
    "F = K(x**5-2*x**4-3*x**3+6*x**2-4*x+8)\n",
    "F1 = F.derivative()\n",
    "F2 = F.derivative(2)\n",
    "F3 = F.derivative(3)\n",
    "F4 = F.derivative(4)\n",
    "F5 = F.derivative(5)"
   ]
  },
  {
   "cell_type": "markdown",
   "metadata": {},
   "source": [
    "Calculamos $|\\{c\\in\\mathbb{R} : f(c)=0\\}|.$"
   ]
  },
  {
   "cell_type": "code",
   "execution_count": 3,
   "metadata": {},
   "outputs": [
    {
     "data": {
      "text/plain": [
       "2"
      ]
     },
     "execution_count": 3,
     "metadata": {},
     "output_type": "execute_result"
    }
   ],
   "source": [
    "sturmcount(F,F1) # Tiene dos raíces reales."
   ]
  },
  {
   "cell_type": "markdown",
   "metadata": {},
   "source": [
    "Calculamos $|\\{c\\in\\mathbb{R}: f(c)=0, f'(c)=0 \\}|.$"
   ]
  },
  {
   "cell_type": "code",
   "execution_count": 4,
   "metadata": {},
   "outputs": [
    {
     "data": {
      "text/plain": [
       "1"
      ]
     },
     "execution_count": 4,
     "metadata": {},
     "output_type": "execute_result"
    }
   ],
   "source": [
    "sturmcount(F,F1)-sturmcount(F,F1*F1^2)  # Una raíz es simple y la otra al menos doble."
   ]
  },
  {
   "cell_type": "markdown",
   "metadata": {},
   "source": [
    "Calculamos $|\\{c\\in\\mathbb{R}:f(c)=0, f''(c)=0\\}|.$"
   ]
  },
  {
   "cell_type": "code",
   "execution_count": 5,
   "metadata": {},
   "outputs": [
    {
     "data": {
      "text/plain": [
       "0"
      ]
     },
     "execution_count": 5,
     "metadata": {},
     "output_type": "execute_result"
    }
   ],
   "source": [
    "sturmcount(F,F1)-sturmcount(F,F1*F2^2)  # Tiene una raíz simple y la otra doble."
   ]
  },
  {
   "cell_type": "markdown",
   "metadata": {},
   "source": [
    "Calculamos $|\\{c\\in\\mathbb{R}:f(c)=0,f''(c)>0\\}|$"
   ]
  },
  {
   "cell_type": "code",
   "execution_count": 6,
   "metadata": {},
   "outputs": [
    {
     "data": {
      "text/plain": [
       "1"
      ]
     },
     "execution_count": 6,
     "metadata": {},
     "output_type": "execute_result"
    }
   ],
   "source": [
    "(sturmcount(F,F1*F2^2)+sturmcount(F,F1*F2))/2"
   ]
  },
  {
   "cell_type": "markdown",
   "metadata": {},
   "source": [
    "Calculamos $|\\{c\\in\\mathbb{R}:f(c)=0,f(c)f^{(4)}(c)<0\\}|$"
   ]
  },
  {
   "cell_type": "code",
   "execution_count": 7,
   "metadata": {},
   "outputs": [
    {
     "data": {
      "text/plain": [
       "1"
      ]
     },
     "execution_count": 7,
     "metadata": {},
     "output_type": "execute_result"
    }
   ],
   "source": [
    "(sturmcount(F,F1*(F1*F4))^2-sturmcount(F,F1*(F1*F4)))/2"
   ]
  },
  {
   "cell_type": "markdown",
   "metadata": {},
   "source": [
    "Calculamos $|\\{c\\in\\mathbb{R}:f(c)=0, f(c)f^{(4)}(c)>0\\}|$"
   ]
  },
  {
   "cell_type": "code",
   "execution_count": 8,
   "metadata": {},
   "outputs": [
    {
     "data": {
      "text/plain": [
       "0"
      ]
     },
     "execution_count": 8,
     "metadata": {},
     "output_type": "execute_result"
    }
   ],
   "source": [
    "(sturmcount(F,F1*(F1*F4)^2)+sturmcount(F,F1*(F1*F4)))/2"
   ]
  },
  {
   "cell_type": "markdown",
   "metadata": {},
   "source": [
    "Calculamos $|\\{c\\in\\mathbb{R}:f(c)=0,f'(c)>0\\}|$"
   ]
  },
  {
   "cell_type": "code",
   "execution_count": 9,
   "metadata": {},
   "outputs": [
    {
     "data": {
      "text/plain": [
       "1"
      ]
     },
     "execution_count": 9,
     "metadata": {},
     "output_type": "execute_result"
    }
   ],
   "source": [
    "(sturmcount(F,F1*F1^2)+sturmcount(F,F1*F1))/2"
   ]
  },
  {
   "cell_type": "markdown",
   "metadata": {},
   "source": [
    "Calculamos $|\\{c\\in\\mathbb{R}:f(c)=0,f^{(4)}(c)>0\\}|$"
   ]
  },
  {
   "cell_type": "code",
   "execution_count": 10,
   "metadata": {},
   "outputs": [
    {
     "data": {
      "text/plain": [
       "1"
      ]
     },
     "execution_count": 10,
     "metadata": {},
     "output_type": "execute_result"
    }
   ],
   "source": [
    "(sturmcount(F,F1*F4^2)+sturmcount(F,F1*F4))/2"
   ]
  }
 ],
 "metadata": {
  "kernelspec": {
   "display_name": "SageMath 9.2",
   "language": "sage",
   "name": "sagemath"
  },
  "language_info": {
   "codemirror_mode": {
    "name": "ipython",
    "version": 3
   },
   "file_extension": ".py",
   "mimetype": "text/x-python",
   "name": "python",
   "nbconvert_exporter": "python",
   "pygments_lexer": "ipython3",
   "version": "3.8.5"
  }
 },
 "nbformat": 4,
 "nbformat_minor": 4
}
