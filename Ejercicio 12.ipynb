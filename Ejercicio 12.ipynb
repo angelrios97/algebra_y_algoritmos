{
 "cells": [
  {
   "cell_type": "markdown",
   "metadata": {},
   "source": [
    "# Álgebra y Algoritmos\n",
    "### Ángel Ríos San Nicolás \n",
    "**Ejercicio 12.** Sean $F=x^3−3x^2+3$, $G= 10x^2−15x+1$.  Calcule la codificacion _à la Thom_ de la unica raíz $\\alpha$ de $F$ que cumple $G(\\alpha)<0$. Solo puede usar el algoritmo sturmcount anterior en dos polinomios para extraer información."
   ]
  },
  {
   "cell_type": "code",
   "execution_count": null,
   "metadata": {},
   "outputs": [],
   "source": [
    "# Función que calcula V(L,-inf,inf) para la lista L dada por P y Q con signos cambiados.\n",
    "def sturmcount(P, Q):\n",
    "    if P == 0 or Q == 0:\n",
    "        raise(ValueError)\n",
    "    L = [P, Q]\n",
    "    while L[-1] != 0:\n",
    "        L.append(-L[-2] % L[-1])\n",
    "    L = L[:-1]\n",
    "    count = 0\n",
    "    for i in range(len(L) - 1):\n",
    "        n = L[i].degree()\n",
    "        m = L[i+1].degree()\n",
    "        if (n-m) % 2 == 1:\n",
    "            an = L[i][n]\n",
    "            bm = L[i+1][m]\n",
    "            count = count + sign(an * bm)\n",
    "    return count"
   ]
  },
  {
   "cell_type": "code",
   "execution_count": 2,
   "metadata": {},
   "outputs": [
    {
     "name": "stderr",
     "output_type": "stream",
     "text": [
      "/opt/SageMath/local/lib/python3.8/site-packages/mpmath/ctx_mp_python.py:892: SyntaxWarning: \"is\" with a literal. Did you mean \"==\"?\n",
      "  if other is 0:\n",
      "/opt/SageMath/local/lib/python3.8/site-packages/mpmath/ctx_mp_python.py:986: SyntaxWarning: \"is\" with a literal. Did you mean \"==\"?\n",
      "  if other is 0:\n"
     ]
    }
   ],
   "source": [
    "# Definimos los polinomios F, F', F'', F''' y G en QQ[x].\n",
    "K = QQ[x]\n",
    "F = K(x**3-3*x**2+3)\n",
    "G = K(10*x**2-15*x+1)\n",
    "F1 = F.derivative()\n",
    "F2 = F.derivative(2)\n",
    "F3 = F.derivative(3)"
   ]
  },
  {
   "cell_type": "markdown",
   "metadata": {},
   "source": [
    "Calculamos $|\\{c\\in\\mathbb{R}: F(c)=0\\}|$."
   ]
  },
  {
   "cell_type": "code",
   "execution_count": 3,
   "metadata": {},
   "outputs": [
    {
     "data": {
      "text/plain": [
       "3"
      ]
     },
     "execution_count": 3,
     "metadata": {},
     "output_type": "execute_result"
    }
   ],
   "source": [
    "sturmcount(F,F1)"
   ]
  },
  {
   "cell_type": "markdown",
   "metadata": {},
   "source": [
    "Calculamos $|\\{c\\in\\mathbb{R} : F(c)=0, G(c)<0\\}|$."
   ]
  },
  {
   "cell_type": "code",
   "execution_count": 4,
   "metadata": {},
   "outputs": [
    {
     "data": {
      "text/plain": [
       "1"
      ]
     },
     "execution_count": 4,
     "metadata": {},
     "output_type": "execute_result"
    }
   ],
   "source": [
    "(sturmcount(F,F1*G^2)-sturmcount(F,F1*G))/2"
   ]
  },
  {
   "cell_type": "markdown",
   "metadata": {},
   "source": [
    "Calculamos $|\\{c\\in\\mathbb{R}: F(c)=0, F'(c)G(c)<0\\}|$."
   ]
  },
  {
   "cell_type": "code",
   "execution_count": 5,
   "metadata": {},
   "outputs": [
    {
     "data": {
      "text/plain": [
       "0"
      ]
     },
     "execution_count": 5,
     "metadata": {},
     "output_type": "execute_result"
    }
   ],
   "source": [
    "(sturmcount(F,F1*(F1*G)^2)-sturmcount(F,F1*(F1*G)))/2"
   ]
  },
  {
   "cell_type": "markdown",
   "metadata": {},
   "source": [
    "Calculamos $|\\{c\\in\\mathbb{R}: F(c)=0, F'(c)G(c)>0\\}|$."
   ]
  },
  {
   "cell_type": "code",
   "execution_count": 6,
   "metadata": {},
   "outputs": [
    {
     "data": {
      "text/plain": [
       "2"
      ]
     },
     "execution_count": 6,
     "metadata": {},
     "output_type": "execute_result"
    }
   ],
   "source": [
    "(sturmcount(F,F1*(F1*G)^2)+sturmcount(F,(F1*G)))/2"
   ]
  },
  {
   "cell_type": "markdown",
   "metadata": {},
   "source": [
    "Calculamos $|\\{c\\in\\mathbb{R}: F(c)=0, F''(c)G(c)<0\\}|$."
   ]
  },
  {
   "cell_type": "code",
   "execution_count": 7,
   "metadata": {},
   "outputs": [
    {
     "data": {
      "text/plain": [
       "2"
      ]
     },
     "execution_count": 7,
     "metadata": {},
     "output_type": "execute_result"
    }
   ],
   "source": [
    "(sturmcount(F,F1*(F2*G)^2)-sturmcount(F,F1*(F2*G)))/2"
   ]
  },
  {
   "cell_type": "markdown",
   "metadata": {},
   "source": [
    "Calculamos $|\\{c\\in\\mathbb{R} : F(c)=0, F''(c)G(c)>0\\}|$."
   ]
  },
  {
   "cell_type": "code",
   "execution_count": 8,
   "metadata": {},
   "outputs": [
    {
     "data": {
      "text/plain": [
       "1"
      ]
     },
     "execution_count": 8,
     "metadata": {},
     "output_type": "execute_result"
    }
   ],
   "source": [
    "(sturmcount(F,F1*(F2*G)^2)+sturmcount(F,F1*(F2*G)))/2"
   ]
  },
  {
   "cell_type": "markdown",
   "metadata": {},
   "source": [
    "Calculamos $|\\{c\\in\\mathbb{R} :F(c)=0, F'''(c)G(c)<0\\}|$."
   ]
  },
  {
   "cell_type": "code",
   "execution_count": 9,
   "metadata": {},
   "outputs": [
    {
     "data": {
      "text/plain": [
       "1"
      ]
     },
     "execution_count": 9,
     "metadata": {},
     "output_type": "execute_result"
    }
   ],
   "source": [
    "(sturmcount(F,F1*(F3*G)^2)-sturmcount(F,F1*(F3*G)))/2"
   ]
  },
  {
   "cell_type": "markdown",
   "metadata": {},
   "source": [
    "Calculamos $|\\{c\\in\\mathbb{R} :F(c)=0, F'''(c)G(c)>0\\}|$."
   ]
  },
  {
   "cell_type": "code",
   "execution_count": 10,
   "metadata": {},
   "outputs": [
    {
     "data": {
      "text/plain": [
       "2"
      ]
     },
     "execution_count": 10,
     "metadata": {},
     "output_type": "execute_result"
    }
   ],
   "source": [
    "(sturmcount(F,F1*(F3*G)^2)+sturmcount(F,F1*(F3*G)))/2"
   ]
  },
  {
   "cell_type": "markdown",
   "metadata": {},
   "source": [
    "Calculamos $|\\{c\\in\\mathbb{R} : F(c)=0, F''(c)<0\\}|$."
   ]
  },
  {
   "cell_type": "code",
   "execution_count": 11,
   "metadata": {},
   "outputs": [
    {
     "data": {
      "text/plain": [
       "1"
      ]
     },
     "execution_count": 11,
     "metadata": {},
     "output_type": "execute_result"
    }
   ],
   "source": [
    "(sturmcount(F,F1*F2^2)-sturmcount(F,F1*F2))/2"
   ]
  },
  {
   "cell_type": "markdown",
   "metadata": {},
   "source": [
    "Calculamos $|\\{c\\in\\mathbb{R}: F(c)=0, F'''(c)<0\\}|$."
   ]
  },
  {
   "cell_type": "code",
   "execution_count": 12,
   "metadata": {},
   "outputs": [
    {
     "data": {
      "text/plain": [
       "0"
      ]
     },
     "execution_count": 12,
     "metadata": {},
     "output_type": "execute_result"
    }
   ],
   "source": [
    "(sturmcount(F,F1*F3^2)-sturmcount(F,F1*F3))/2"
   ]
  }
 ],
 "metadata": {
  "kernelspec": {
   "display_name": "SageMath 9.2",
   "language": "sage",
   "name": "sagemath"
  },
  "language_info": {
   "codemirror_mode": {
    "name": "ipython",
    "version": 3
   },
   "file_extension": ".py",
   "mimetype": "text/x-python",
   "name": "python",
   "nbconvert_exporter": "python",
   "pygments_lexer": "ipython3",
   "version": "3.8.5"
  }
 },
 "nbformat": 4,
 "nbformat_minor": 4
}
